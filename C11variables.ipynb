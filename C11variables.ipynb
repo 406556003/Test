{
 "cells": [
  {
   "cell_type": "markdown",
   "metadata": {},
   "source": [
    "## Python3\n",
    "- 基础语法：\n",
    "1. Python的基本变量； 整形、浮点、字符串； 基本的数值运算\n",
    "2. 三大数据结构：list列表；triple元组；map键值对 <>li,20<>\n",
    "3. if语句 多层的复杂嵌套if else...\n",
    "4. while/for\n",
    "5. input print ...\n",
    "\n",
    "- 模块 \n",
    "1. numpy 矩阵操作\n",
    "2. pandas 数据清洗，数据的预处理\n",
    "3. matplot 可视化\n",
    "\n",
    "入门(数据分析方向)\n",
    "\n",
    "\n",
    "#### 第三方模块：\n",
    "\n",
    "- 机器学习 \n",
    "\n",
    "- 数据爬虫 (2w)\n",
    "\n",
    "- 深度学习(DeepLearning)： TensorFlow pytorch 学术界用(自动将数据放入显卡GPU里跑)\n",
    "\n",
    "- Web开发 \n",
    "\n",
    "......\n",
    "\n",
    "\n",
    "#### 资料：\n",
    "\n",
    "图灵社区(各种图书教材)\n",
    "\n",
    "\n"
   ]
  },
  {
   "cell_type": "markdown",
   "metadata": {},
   "source": [
    "## 第一部分 变量和简单数据类型\n",
    "将学习可在Python程序中使用的各种数据，还将学习如何将数据存储到变量中，以及如何在程序中使用这些变量。\n",
    "\n",
    "### 1.1. 运行hello_world.py时发生的情况\n",
    "- 运行【源程序】 hello_world.py 时，末尾的.py指出这是一个Python程序，因此编辑器将使用【Python解释器】来运行它。\n",
    "- Python解释器读取整个程序，确定其中每个单词的含义。\n",
    "- 编译原理\n",
    "- build-in"
   ]
  },
  {
   "cell_type": "code",
   "execution_count": null,
   "metadata": {
    "collapsed": true
   },
   "outputs": [],
   "source": [
    "print(\"Hello Python!\")"
   ]
  },
  {
   "cell_type": "markdown",
   "metadata": {},
   "source": [
    "### 1.2. 变量\n",
    "每个变量都存储了一个值——与变量相关联的信息。"
   ]
  },
  {
   "cell_type": "code",
   "execution_count": 51,
   "metadata": {},
   "outputs": [
    {
     "name": "stdout",
     "output_type": "stream",
     "text": [
      "Hello Python world!\n"
     ]
    }
   ],
   "source": [
    "message = \"Hello Python world!\" #赋值，(将内容和变量)关联\n",
    "print(message)"
   ]
  },
  {
   "cell_type": "markdown",
   "metadata": {},
   "source": [
    "**1.2.1 变量的命名和使用**\n",
    "1. 变量名只能包含字母、数字和下划线。变量名可以字母或下划线打头，但**不能以数字打头**，例如，可将变量命名为message_1，但不能将其命名为1_message。\n",
    "\n",
    "2. 变量名**不能包含空格**，但可使用下划线来分隔其中的单词。例如，变量名greeting_message可行，但变量名greeting message会引发错误。\n",
    "\n",
    "3. 不要将Python关键字和函数名用作变量名，即不要使用Python保留用于特殊用途的单词，如print（请参见附录A.4）。\n",
    "\n",
    "4. 变量名应既简短又具有描述性。例如，name比n好，student_name比s_n好，name_length比length_of_persons_name好。\n",
    "\n",
    "5. 慎用小写字母l和大写字母O，因为它们可能被人错看成数字1和0。\n",
    "\n",
    "**取有意义的变量名, 便于维护和交流**: 计算机一丝不苟，但不关心拼写是否正确。因此，创建变量名和编写代码时，你无需考虑英语中的拼写和语法规则。"
   ]
  },
  {
   "cell_type": "code",
   "execution_count": 52,
   "metadata": {},
   "outputs": [
    {
     "ename": "NameError",
     "evalue": "name 'message11' is not defined",
     "output_type": "error",
     "traceback": [
      "\u001b[1;31m---------------------------------------------------------------------------\u001b[0m",
      "\u001b[1;31mNameError\u001b[0m                                 Traceback (most recent call last)",
      "\u001b[1;32m<ipython-input-52-1d3725e23476>\u001b[0m in \u001b[0;36m<module>\u001b[1;34m()\u001b[0m\n\u001b[0;32m      2\u001b[0m \u001b[1;31m#1_message\u001b[0m\u001b[1;33m\u001b[0m\u001b[1;33m\u001b[0m\u001b[0m\n\u001b[0;32m      3\u001b[0m \u001b[1;31m#greeting message\u001b[0m\u001b[1;33m\u001b[0m\u001b[1;33m\u001b[0m\u001b[0m\n\u001b[1;32m----> 4\u001b[1;33m \u001b[0mmessage11\u001b[0m\u001b[1;33m\u001b[0m\u001b[0m\n\u001b[0m",
      "\u001b[1;31mNameError\u001b[0m: name 'message11' is not defined"
     ]
    }
   ],
   "source": [
    "message_1=1\n",
    "#1_message\n",
    "#greeting message\n",
    "message11"
   ]
  },
  {
   "cell_type": "markdown",
   "metadata": {},
   "source": [
    "**1.2.2 使用变量时避免命名错误**: 误用未定义的变量名. \n",
    "\n",
    "- ** 关注Traceback指示的错误位置和原因**\n",
    "\n",
    "程序无法成功地运行时，解释器会提供一个traceback。traceback是一条记录，指出了解释器尝试运行代码时，在什么地方陷入了困境。"
   ]
  },
  {
   "cell_type": "code",
   "execution_count": 53,
   "metadata": {},
   "outputs": [
    {
     "ename": "NameError",
     "evalue": "name 'mesage' is not defined",
     "output_type": "error",
     "traceback": [
      "\u001b[1;31m---------------------------------------------------------------------------\u001b[0m",
      "\u001b[1;31mNameError\u001b[0m                                 Traceback (most recent call last)",
      "\u001b[1;32m<ipython-input-53-6f26aa3b021d>\u001b[0m in \u001b[0;36m<module>\u001b[1;34m()\u001b[0m\n\u001b[0;32m      1\u001b[0m \u001b[0mmessage\u001b[0m \u001b[1;33m=\u001b[0m \u001b[1;34m\"Hello Python Crash Course reader!\"\u001b[0m\u001b[1;33m\u001b[0m\u001b[0m\n\u001b[1;32m----> 2\u001b[1;33m \u001b[0mprint\u001b[0m\u001b[1;33m(\u001b[0m\u001b[0mmesage\u001b[0m\u001b[1;33m)\u001b[0m\u001b[1;33m\u001b[0m\u001b[0m\n\u001b[0m\u001b[0;32m      3\u001b[0m \u001b[1;31m# 变量名称错误 etc\u001b[0m\u001b[1;33m\u001b[0m\u001b[1;33m\u001b[0m\u001b[0m\n",
      "\u001b[1;31mNameError\u001b[0m: name 'mesage' is not defined"
     ]
    }
   ],
   "source": [
    "message = \"Hello Python Crash Course reader!\"\n",
    "print(mesage)\n",
    "# 变量名称错误 etc"
   ]
  },
  {
   "cell_type": "markdown",
   "metadata": {},
   "source": [
    "### 1.2.3 练习\n",
    "请完成下面的练习，在做每个练习时，都编写一个独立的程序。保存每个程序时，使用符合标准Python约定的文件名：使用小写字母和下划线，如simple_message.py和simple_messages.py。\n",
    "\n",
    "- 简单消息：将一条消息存储到变量中，再将其打印出来。\n",
    "- 多条简单消息：将一条消息存储到变量中，将其打印出来；再将变量的值修改为一条新消息，并将其打印出来。"
   ]
  },
  {
   "cell_type": "code",
   "execution_count": 54,
   "metadata": {},
   "outputs": [
    {
     "name": "stdout",
     "output_type": "stream",
     "text": [
      "save a message into a variable and print it.\n",
      "save a message into a variable and print it, than change the variable value.\n",
      "a new message.\n"
     ]
    }
   ],
   "source": [
    "message_a = \"save a message into a variable and print it.\"\n",
    "print(message_a)\n",
    "message_b = \"save a message into a variable and print it, than change the variable value.\"\n",
    "print(message_b)\n",
    "message_b = \"a new message.\"\n",
    "print(message_b)"
   ]
  },
  {
   "cell_type": "markdown",
   "metadata": {},
   "source": [
    "## 1.3. 字符串\n",
    "大多数程序都定义并收集某种数据，然后使用它们来做些有意义的事情。将介绍的第一种数据类型是字符串。字符串虽然看似简单，但能够以很多不同的方式使用它们。\n",
    "\n",
    "**字符串**就是一系列字符。在Python中，用引号括起的都是字符串，其中的引号可以是**单引号**，也可以是**双引号**。<br>\n",
    "字符中存在单引号(双引号)时，键入字符串时外边要使用双引号(单引号)包括起来。"
   ]
  },
  {
   "cell_type": "code",
   "execution_count": 55,
   "metadata": {},
   "outputs": [
    {
     "name": "stdout",
     "output_type": "stream",
     "text": [
      "This is a string.\n",
      "This is also a string.\n"
     ]
    }
   ],
   "source": [
    "print(\"This is a string.\")\n",
    "print('This is also a string.')"
   ]
  },
  {
   "cell_type": "code",
   "execution_count": 56,
   "metadata": {},
   "outputs": [
    {
     "name": "stdout",
     "output_type": "stream",
     "text": [
      "I told my friend, \"Python is my favorite language!\"\n",
      "The language 'Python' is named after Monty Python, not the snake.\n",
      "One of Python's strengths is its diverse and supportive community.\n"
     ]
    }
   ],
   "source": [
    "print('I told my friend, \"Python is my favorite language!\"')\n",
    "print(\"The language 'Python' is named after Monty Python, not the snake.\")\n",
    "print(\"One of Python's strengths is its diverse and supportive community.\")"
   ]
  },
  {
   "cell_type": "markdown",
   "metadata": {},
   "source": [
    "### 1.3.1 使用方法修改字符串的大小写\n",
    "\n",
    "`title()`以**首字母大写**的方式显示每个单词，即将每个单词的首字母都改为大写。\n",
    "\n",
    "`字符串.title()`"
   ]
  },
  {
   "cell_type": "code",
   "execution_count": 57,
   "metadata": {},
   "outputs": [
    {
     "name": "stdout",
     "output_type": "stream",
     "text": [
      "Ada Lovelace\n"
     ]
    }
   ],
   "source": [
    "name = \"ada lovelace\"\n",
    "print(name.title())"
   ]
  },
  {
   "cell_type": "markdown",
   "metadata": {},
   "source": [
    "\n",
    "- 小写的字符串\"ada lovelace\"存储到了变量name中。\n",
    "- 在print()语句中，方法title()出现在这个变量的后面。\n",
    "\n",
    "<font size=5>**方法**</font>是Python对数据(某个个体)执行的操作(动作)。每个方法后面都跟着**一对括号**，这是因为方法通常需要额外的信息**(输入参数)**来完成其工作。这种信息是在括号内提供的。<br><br>\n",
    "\n",
    "在name.title()中，name后面的句点<font size=5>** . **</font>作用为：让Python对变量name执行方法title()指定的操作。函数title()不需要额外的信息，因此它后面的括号是空的。<br><br>\n",
    "\n",
    "- 和变量绑定在一起的，称为<font size=3>**方法**</font><br>\n",
    "- 不和变量绑定在一起的，称为<font size=3>**函数**</font>"
   ]
  },
  {
   "cell_type": "code",
   "execution_count": 58,
   "metadata": {},
   "outputs": [
    {
     "name": "stdout",
     "output_type": "stream",
     "text": [
      "ADA LOVELACE\n",
      "ada lovelace\n",
      "<built-in method upper of str object at 0x000001D5AADDAE70>\n"
     ]
    }
   ],
   "source": [
    "name = \"Ada Lovelace\"\n",
    "print(name.upper())\n",
    "print(name.lower())\n",
    "\n",
    "# print(参数)---函数\n",
    "# name.title(参数)---方法\n",
    "# Tab---(方法的)智能联想\n",
    "\n",
    "print(name.upper) # upper这个方法(特殊method类型变量)在内存里存在哪里，位置会变化\n",
    "# <built-in method upper of str object at 0x000001D5ABF33CF0>\n",
    "# <built-in method upper of str object at 0x000001D5ABF33B70>\n"
   ]
  },
  {
   "cell_type": "markdown",
   "metadata": {},
   "source": [
    "### 1.3.2　合并（拼接）字符串\n",
    "\n",
    "Python使用加号（+）来合并字符串。"
   ]
  },
  {
   "cell_type": "code",
   "execution_count": 59,
   "metadata": {},
   "outputs": [
    {
     "name": "stdout",
     "output_type": "stream",
     "text": [
      "ada lovelace\n",
      "ada lovelace\n"
     ]
    }
   ],
   "source": [
    "first_name = \"ada\"\n",
    "last_name = \"lovelace\"\n",
    "full_name = first_name + \" \" + last_name\n",
    "\n",
    "print(full_name)\n",
    "print(first_name + \" \" + last_name)"
   ]
  },
  {
   "cell_type": "markdown",
   "metadata": {},
   "source": [
    "这种合并字符串的方法称为<font size=3>**拼接**</font>。\n",
    "- 通过拼接，可使用存储在变量中的信息来创建完整的消息。\n",
    "- 可以使用拼接来创建消息，再把整条消息都存储在一个变量中"
   ]
  },
  {
   "cell_type": "code",
   "execution_count": 60,
   "metadata": {},
   "outputs": [
    {
     "name": "stdout",
     "output_type": "stream",
     "text": [
      "Hello, Ada Lovelace!\n"
     ]
    }
   ],
   "source": [
    "print(\"Hello, \" + full_name.title() + \"!\")"
   ]
  },
  {
   "cell_type": "code",
   "execution_count": 61,
   "metadata": {},
   "outputs": [
    {
     "name": "stdout",
     "output_type": "stream",
     "text": [
      "Hello, Ada Lovelace!\n"
     ]
    }
   ],
   "source": [
    "message = \"Hello, \" + full_name.title() + \"!\"\n",
    "print(message)"
   ]
  },
  {
   "cell_type": "markdown",
   "metadata": {},
   "source": [
    "### 1.3.3 使用制表符或换行符来添加空白\n",
    "空白泛指任何非打印字符，如空格、制表符和换行符。你可使用空白来组织输出，以使其更易读。\n",
    "生成很多行输出，届时制表符和换行符将提供极大的帮助."
   ]
  },
  {
   "cell_type": "code",
   "execution_count": 62,
   "metadata": {},
   "outputs": [
    {
     "name": "stdout",
     "output_type": "stream",
     "text": [
      "\tPython\n",
      "    Python\n",
      "        Python\n"
     ]
    }
   ],
   "source": [
    "# 要在字符串中添加制表符，可使用字符组合\\t\n",
    "print(\"\\tPython\")\n",
    "print(\"    Python\") # 4个空格\n",
    "print(\"        Python\") # 相当于8个空格"
   ]
  },
  {
   "cell_type": "code",
   "execution_count": 63,
   "metadata": {},
   "outputs": [
    {
     "name": "stdout",
     "output_type": "stream",
     "text": [
      "Languages:\n",
      "\tPython\n",
      "\tC\n",
      "\tJavaScript\n"
     ]
    }
   ],
   "source": [
    "# 要在字符串中添加换行符，可使用字符组合\\n\n",
    "print(\"Languages:\\n\\tPython\\n\\tC\\n\\tJavaScript\")"
   ]
  },
  {
   "cell_type": "code",
   "execution_count": 64,
   "metadata": {},
   "outputs": [
    {
     "name": "stdout",
     "output_type": "stream",
     "text": [
      "Languages:\n",
      "\tPython\n",
      "\tC\n",
      "\tJavaScript\n"
     ]
    }
   ],
   "source": [
    "# 可在同一个字符串中同时包含制表符和换行符。\n",
    "# 字符串\"\\n\\t\"让Python换到下一行，并在下一行开头添加一个制表符。\n",
    "print(\"Languages:\\n\\tPython\\n\\tC\\n\\tJavaScript\")"
   ]
  },
  {
   "cell_type": "markdown",
   "metadata": {},
   "source": [
    "### 1.3.4　删除空白\n",
    "在程序中，额外的空白可能令人迷惑。对程序员来说，`python`和`python  `看起来几乎没什么两样，但对程序来说，它们却是两个不同的字符串。\n",
    "\n",
    "- Python能够找出字符串开头和末尾多余的空白。要确保字符串末尾没有空白，可使用方法`rstrip()`。\n",
    "- 剔除字符串开头的空白，或同时剔除字符串两端的空白。为此，可分别使用方法`lstrip()`和`strip()`。\n",
    "- 右侧空白(即right strip)：rstrip()\n",
    "- 左侧空白(即left strip)：lstrip()\n",
    "- 双侧空白：strip()"
   ]
  },
  {
   "cell_type": "code",
   "execution_count": 65,
   "metadata": {},
   "outputs": [
    {
     "data": {
      "text/plain": [
       "'python'"
      ]
     },
     "execution_count": 65,
     "metadata": {},
     "output_type": "execute_result"
    }
   ],
   "source": [
    "favorite_language = 'python   '\n",
    "favorite_language.rstrip() # 不覆盖原有字符串\n"
   ]
  },
  {
   "cell_type": "code",
   "execution_count": 66,
   "metadata": {},
   "outputs": [
    {
     "data": {
      "text/plain": [
       "'python'"
      ]
     },
     "execution_count": 66,
     "metadata": {},
     "output_type": "execute_result"
    }
   ],
   "source": [
    "# 要永久删除这个字符串中的空白，必须将删除操作的结果存回到变量中\n",
    "favorite_language = favorite_language.rstrip()\n",
    "favorite_language"
   ]
  },
  {
   "cell_type": "code",
   "execution_count": 67,
   "metadata": {},
   "outputs": [
    {
     "data": {
      "text/plain": [
       "' python'"
      ]
     },
     "execution_count": 67,
     "metadata": {},
     "output_type": "execute_result"
    }
   ],
   "source": [
    "favorite_language = ' python '\n",
    "a = favorite_language.rstrip()\n",
    "a"
   ]
  },
  {
   "cell_type": "code",
   "execution_count": 68,
   "metadata": {},
   "outputs": [
    {
     "data": {
      "text/plain": [
       "'python '"
      ]
     },
     "execution_count": 68,
     "metadata": {},
     "output_type": "execute_result"
    }
   ],
   "source": [
    "b = favorite_language.lstrip()\n",
    "b"
   ]
  },
  {
   "cell_type": "code",
   "execution_count": 69,
   "metadata": {},
   "outputs": [
    {
     "data": {
      "text/plain": [
       "'python'"
      ]
     },
     "execution_count": 69,
     "metadata": {},
     "output_type": "execute_result"
    }
   ],
   "source": [
    "c = favorite_language.strip()\n",
    "c"
   ]
  },
  {
   "cell_type": "markdown",
   "metadata": {},
   "source": [
    "### 1.3.5 使用字符串时避免语法错误\n",
    "**语法错误**是一种时不时会遇到的错误。\n",
    "\n",
    "程序中包含非法的Python代码时，就会导致语法错误。例如，在用单引号括起的字符串中，如果包含撇号，就将导致错误。这是因为这会导致Python将第一个单引号和撇号之间的内容视为一个字符串，进而将余下的文本视为Python代码，从而引发错误。"
   ]
  },
  {
   "cell_type": "code",
   "execution_count": 70,
   "metadata": {},
   "outputs": [
    {
     "name": "stdout",
     "output_type": "stream",
     "text": [
      "One of Python's strengths is its diverse community.\n"
     ]
    }
   ],
   "source": [
    "message = \"One of Python's strengths is its diverse community.\"\n",
    "print(message)"
   ]
  },
  {
   "cell_type": "code",
   "execution_count": 71,
   "metadata": {},
   "outputs": [
    {
     "ename": "SyntaxError",
     "evalue": "invalid syntax (<ipython-input-71-d8ed895ff291>, line 1)",
     "output_type": "error",
     "traceback": [
      "\u001b[1;36m  File \u001b[1;32m\"<ipython-input-71-d8ed895ff291>\"\u001b[1;36m, line \u001b[1;32m1\u001b[0m\n\u001b[1;33m    message = 'One of Python's strengths is its diverse community.'\u001b[0m\n\u001b[1;37m                             ^\u001b[0m\n\u001b[1;31mSyntaxError\u001b[0m\u001b[1;31m:\u001b[0m invalid syntax\n"
     ]
    }
   ],
   "source": [
    "message = 'One of Python's strengths is its diverse community.'\n",
    "print(message) # SyntaxError: invalid syntax"
   ]
  },
  {
   "cell_type": "markdown",
   "metadata": {},
   "source": [
    "### 1.3.6　Python 2中的print语句\n",
    "\n",
    "在Python 2中，无需将要打印的内容放在括号内。\n",
    "\n",
    "`print \"Hello Python 2.7 world!\"`"
   ]
  },
  {
   "cell_type": "markdown",
   "metadata": {},
   "source": [
    "### 1.3.7 练习\n",
    "\n",
    "- 个性化消息：将用户的姓名存到一个变量中，并向该用户显示一条消息。显示的消息应非常简单，如“Hello Eric, would you like to learn some Python today?”。\n",
    "\n",
    "- 调整名字的大小写：将一个人名存储到一个变量中，再以小写、大写和首字母大写的方式显示这个人名。\n",
    "\n",
    "- 名言：找一句你钦佩的名人说的名言，将这个名人的姓名和他的名言打印出来。输出应类似于下面这样（包括引号）: Albert Einstein once said, “A person who never made a mistake never tried anything new.”\n",
    "\n",
    "- 名言2：重复练习2-5，但将名人的姓名存储在变量famous_person中，再创建要显示的消息，并将其存储在变量message中，然后打印这条消息。\n",
    "\n",
    "- 剔除人名中的空白：存储一个人名，并在其开头和末尾都包含一些空白字符。务必至少使用字符组合\"\\t\"和\"\\n\"各一次。 打印这个人名，以显示其开头和末尾的空白。然后，分别使用剔除函数lstrip()、rstrip()和strip()对人名进行处理，并将结果打印出来。"
   ]
  }
 ],
 "metadata": {
  "kernelspec": {
   "display_name": "Python 3",
   "language": "python",
   "name": "python3"
  },
  "language_info": {
   "codemirror_mode": {
    "name": "ipython",
    "version": 3
   },
   "file_extension": ".py",
   "mimetype": "text/x-python",
   "name": "python",
   "nbconvert_exporter": "python",
   "pygments_lexer": "ipython3",
   "version": "3.6.3"
  }
 },
 "nbformat": 4,
 "nbformat_minor": 2
}
